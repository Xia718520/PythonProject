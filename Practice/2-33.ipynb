{
 "cells": [
  {
   "metadata": {},
   "cell_type": "markdown",
   "source": [
    "机房实践报告\n",
    "\n",
    "| 上课学院 | 资源环境学院 | 课程名称 | 地理大数据分析与应用 |\n",
    "| --- | --- | --- | --- |\n",
    "| 上课地点 | 实训大楼 218 | 机位号 | (11)号机位 |\n",
    "| 专业年级 | 地理信息科学 2301 班 | 指导老师 | 李中元 |\n",
    "| 学生姓名 | 夏正印 | 学生学号 | 202331108031025 |\n"
   ],
   "id": "3eb342b14eb0eecb"
  },
  {
   "metadata": {
    "ExecuteTime": {
     "end_time": "2025-10-11T07:34:01.377687Z",
     "start_time": "2025-10-11T07:34:01.079549Z"
    }
   },
   "cell_type": "code",
   "outputs": [
    {
     "name": "stdout",
     "output_type": "stream",
     "text": [
      "基础Series:\n",
      "0    X1\n",
      "1    X2\n",
      "2    X3\n",
      "3    X4\n",
      "dtype: object\n",
      "\n",
      "自定义索引Series:\n",
      "1    X1\n",
      "2    X2\n",
      "3    X3\n",
      "4    X4\n",
      "dtype: object\n"
     ]
    }
   ],
   "execution_count": 1,
   "source": [
    "import pandas as pd\n",
    "\n",
    "# 基础创建\n",
    "list_data = ['X1', 'X2', 'X3', 'X4']\n",
    "series_basic = pd.Series(list_data)\n",
    "print(\"基础Series:\")\n",
    "print(series_basic)\n",
    "\n",
    "# 自定义索引\n",
    "series_custom = pd.Series(list_data, index=[1, 2, 3, 4])\n",
    "print(\"\\n自定义索引Series:\")\n",
    "print(series_custom)"
   ],
   "id": "f2d0e92e6051a39a"
  },
  {
   "metadata": {
    "ExecuteTime": {
     "end_time": "2025-10-11T07:34:01.387102Z",
     "start_time": "2025-10-11T07:34:01.382422Z"
    }
   },
   "cell_type": "code",
   "source": [
    "# 创建数值Series\n",
    "scores = pd.Series([85, 88, 90, 95, 80],\n",
    "                   index=['张三', '李四', '王五', '赵六', '钱七'],\n",
    "                   name='成绩')\n",
    "\n",
    "print(\"学生成绩Series:\")\n",
    "print(scores)\n",
    "print(f\"Series形状: {scores.shape}\")\n",
    "print(f\"最高分: {scores.max()}\")\n",
    "print(f\"平均分: {scores.mean():.2f}\")"
   ],
   "id": "bf9391719e132be7",
   "outputs": [
    {
     "name": "stdout",
     "output_type": "stream",
     "text": [
      "学生成绩Series:\n",
      "张三    85\n",
      "李四    88\n",
      "王五    90\n",
      "赵六    95\n",
      "钱七    80\n",
      "Name: 成绩, dtype: int64\n",
      "Series形状: (5,)\n",
      "最高分: 95\n",
      "平均分: 87.60\n"
     ]
    }
   ],
   "execution_count": 2
  },
  {
   "metadata": {
    "ExecuteTime": {
     "end_time": "2025-10-15T09:13:05.722342Z",
     "start_time": "2025-10-15T09:13:05.494712Z"
    }
   },
   "cell_type": "code",
   "source": [
    "# 使用字典创建\n",
    "data = {\n",
    "    '序号': [1, 2, 3, 4, 5],\n",
    "    '姓名': ['张三', '李四', '王五', '赵六', '钱七'],\n",
    "    '成绩': [85, 88, 90, 95, 80],\n",
    "    '课程': ['地理大数据分析与应用'] * 5\n",
    "}\n",
    "\n",
    "df = pd.DataFrame(data)\n",
    "print(\"从字典创建的DataFrame:\")\n",
    "print(df)"
   ],
   "id": "6835ca15aef3297b",
   "outputs": [
    {
     "ename": "NameError",
     "evalue": "name 'pd' is not defined",
     "output_type": "error",
     "traceback": [
      "\u001B[31m---------------------------------------------------------------------------\u001B[39m",
      "\u001B[31mNameError\u001B[39m                                 Traceback (most recent call last)",
      "\u001B[36mCell\u001B[39m\u001B[36m \u001B[39m\u001B[32mIn[1]\u001B[39m\u001B[32m, line 9\u001B[39m\n\u001B[32m      1\u001B[39m \u001B[38;5;66;03m# 使用字典创建\u001B[39;00m\n\u001B[32m      2\u001B[39m data = {\n\u001B[32m      3\u001B[39m     \u001B[33m'\u001B[39m\u001B[33m序号\u001B[39m\u001B[33m'\u001B[39m: [\u001B[32m1\u001B[39m, \u001B[32m2\u001B[39m, \u001B[32m3\u001B[39m, \u001B[32m4\u001B[39m, \u001B[32m5\u001B[39m],\n\u001B[32m      4\u001B[39m     \u001B[33m'\u001B[39m\u001B[33m姓名\u001B[39m\u001B[33m'\u001B[39m: [\u001B[33m'\u001B[39m\u001B[33m张三\u001B[39m\u001B[33m'\u001B[39m, \u001B[33m'\u001B[39m\u001B[33m李四\u001B[39m\u001B[33m'\u001B[39m, \u001B[33m'\u001B[39m\u001B[33m王五\u001B[39m\u001B[33m'\u001B[39m, \u001B[33m'\u001B[39m\u001B[33m赵六\u001B[39m\u001B[33m'\u001B[39m, \u001B[33m'\u001B[39m\u001B[33m钱七\u001B[39m\u001B[33m'\u001B[39m],\n\u001B[32m      5\u001B[39m     \u001B[33m'\u001B[39m\u001B[33m成绩\u001B[39m\u001B[33m'\u001B[39m: [\u001B[32m85\u001B[39m, \u001B[32m88\u001B[39m, \u001B[32m90\u001B[39m, \u001B[32m95\u001B[39m, \u001B[32m80\u001B[39m],\n\u001B[32m      6\u001B[39m     \u001B[33m'\u001B[39m\u001B[33m课程\u001B[39m\u001B[33m'\u001B[39m: [\u001B[33m'\u001B[39m\u001B[33m地理大数据分析与应用\u001B[39m\u001B[33m'\u001B[39m] * \u001B[32m5\u001B[39m\n\u001B[32m      7\u001B[39m }\n\u001B[32m----> \u001B[39m\u001B[32m9\u001B[39m df = \u001B[43mpd\u001B[49m.DataFrame(data)\n\u001B[32m     10\u001B[39m \u001B[38;5;28mprint\u001B[39m(\u001B[33m\"\u001B[39m\u001B[33m从字典创建的DataFrame:\u001B[39m\u001B[33m\"\u001B[39m)\n\u001B[32m     11\u001B[39m \u001B[38;5;28mprint\u001B[39m(df)\n",
      "\u001B[31mNameError\u001B[39m: name 'pd' is not defined"
     ]
    }
   ],
   "execution_count": 1
  },
  {
   "metadata": {
    "ExecuteTime": {
     "end_time": "2025-10-11T07:34:01.428971Z",
     "start_time": "2025-10-11T07:34:01.424715Z"
    }
   },
   "cell_type": "code",
   "source": [
    "# 创建多个Series\n",
    "id_series = pd.Series([1, 2, 3, 4, 5])\n",
    "name_series = pd.Series(['张三', '李四', '王五', '赵六', '钱七'])\n",
    "score_series = pd.Series([85, 88, 90, 95, 80])\n",
    "\n",
    "# 合并为DataFrame\n",
    "df_series = pd.concat([id_series, name_series, score_series], axis=1)\n",
    "df_series.columns = ['序号', '姓名', '成绩']\n",
    "print(\"从Series合并的DataFrame:\")\n",
    "print(df_series)"
   ],
   "id": "46c3c378ad8e487f",
   "outputs": [
    {
     "name": "stdout",
     "output_type": "stream",
     "text": [
      "从Series合并的DataFrame:\n",
      "   序号  姓名  成绩\n",
      "0   1  张三  85\n",
      "1   2  李四  88\n",
      "2   3  王五  90\n",
      "3   4  赵六  95\n",
      "4   5  钱七  80\n"
     ]
    }
   ],
   "execution_count": 4
  },
  {
   "metadata": {
    "ExecuteTime": {
     "end_time": "2025-10-11T07:34:01.443446Z",
     "start_time": "2025-10-11T07:34:01.439532Z"
    }
   },
   "cell_type": "code",
   "source": [
    "# 创建二维列表\n",
    "data_table = [\n",
    "    [1, '张三', 85],\n",
    "    [2, '李四', 88],\n",
    "    [3, '王五', 90],\n",
    "    [4, '赵六', 95],\n",
    "    [5, '钱七', 80]\n",
    "]\n",
    "\n",
    "df_list = pd.DataFrame(data_table, columns=['序号', '姓名', '成绩'])\n",
    "print(\"从二维列表创建的DataFrame:\")\n",
    "print(df_list)"
   ],
   "id": "1bd703552db4f6c1",
   "outputs": [
    {
     "name": "stdout",
     "output_type": "stream",
     "text": [
      "从二维列表创建的DataFrame:\n",
      "   序号  姓名  成绩\n",
      "0   1  张三  85\n",
      "1   2  李四  88\n",
      "2   3  王五  90\n",
      "3   4  赵六  95\n",
      "4   5  钱七  80\n"
     ]
    }
   ],
   "execution_count": 5
  },
  {
   "metadata": {
    "ExecuteTime": {
     "end_time": "2025-10-11T07:34:01.458087Z",
     "start_time": "2025-10-11T07:34:01.453091Z"
    }
   },
   "cell_type": "code",
   "source": [
    "# 设置索引\n",
    "df_indexed = df.set_index('序号', drop=True)\n",
    "print(\"设置索引后的DataFrame:\")\n",
    "print(df_indexed)\n",
    "\n",
    "# 重置索引\n",
    "df_reset = df_indexed.reset_index()\n",
    "print(\"\\n重置索引后的DataFrame:\")\n",
    "print(df_reset)"
   ],
   "id": "c1552a0f63cf0997",
   "outputs": [
    {
     "name": "stdout",
     "output_type": "stream",
     "text": [
      "设置索引后的DataFrame:\n",
      "    姓名  成绩          课程\n",
      "序号                    \n",
      "1   张三  85  地理大数据分析与应用\n",
      "2   李四  88  地理大数据分析与应用\n",
      "3   王五  90  地理大数据分析与应用\n",
      "4   赵六  95  地理大数据分析与应用\n",
      "5   钱七  80  地理大数据分析与应用\n",
      "\n",
      "重置索引后的DataFrame:\n",
      "   序号  姓名  成绩          课程\n",
      "0   1  张三  85  地理大数据分析与应用\n",
      "1   2  李四  88  地理大数据分析与应用\n",
      "2   3  王五  90  地理大数据分析与应用\n",
      "3   4  赵六  95  地理大数据分析与应用\n",
      "4   5  钱七  80  地理大数据分析与应用\n"
     ]
    }
   ],
   "execution_count": 6
  },
  {
   "metadata": {
    "ExecuteTime": {
     "end_time": "2025-10-11T07:34:01.472350Z",
     "start_time": "2025-10-11T07:34:01.465586Z"
    }
   },
   "cell_type": "code",
   "source": [
    "# 基本信息查看\n",
    "print(\"DataFrame基本信息:\")\n",
    "print(f\"形状: {df.shape}\")\n",
    "print(f\"列名: {list(df.columns)}\")\n",
    "print(f\"索引: {df.index}\")\n",
    "\n",
    "# 数据预览\n",
    "print(\"\\n前3行数据:\")\n",
    "print(df.head(3))\n",
    "print(\"\\n后2行数据:\")\n",
    "print(df.tail(2))\n",
    "\n",
    "# 数据类型\n",
    "print(\"\\n数据类型:\")\n",
    "print(df.dtypes)\n",
    "\n",
    "# 描述性统计\n",
    "print(\"\\n数值列描述性统计:\")\n",
    "print(df['成绩'].describe())"
   ],
   "id": "7f07df931e0d372b",
   "outputs": [
    {
     "name": "stdout",
     "output_type": "stream",
     "text": [
      "DataFrame基本信息:\n",
      "形状: (5, 4)\n",
      "列名: ['序号', '姓名', '成绩', '课程']\n",
      "索引: RangeIndex(start=0, stop=5, step=1)\n",
      "\n",
      "前3行数据:\n",
      "   序号  姓名  成绩          课程\n",
      "0   1  张三  85  地理大数据分析与应用\n",
      "1   2  李四  88  地理大数据分析与应用\n",
      "2   3  王五  90  地理大数据分析与应用\n",
      "\n",
      "后2行数据:\n",
      "   序号  姓名  成绩          课程\n",
      "3   4  赵六  95  地理大数据分析与应用\n",
      "4   5  钱七  80  地理大数据分析与应用\n",
      "\n",
      "数据类型:\n",
      "序号     int64\n",
      "姓名    object\n",
      "成绩     int64\n",
      "课程    object\n",
      "dtype: object\n",
      "\n",
      "数值列描述性统计:\n",
      "count     5.00000\n",
      "mean     87.60000\n",
      "std       5.59464\n",
      "min      80.00000\n",
      "25%      85.00000\n",
      "50%      88.00000\n",
      "75%      90.00000\n",
      "max      95.00000\n",
      "Name: 成绩, dtype: float64\n"
     ]
    }
   ],
   "execution_count": 7
  },
  {
   "metadata": {
    "ExecuteTime": {
     "end_time": "2025-10-11T07:34:01.485922Z",
     "start_time": "2025-10-11T07:34:01.478769Z"
    }
   },
   "cell_type": "code",
   "source": [
    "# 选择单列\n",
    "print(\"成绩列:\")\n",
    "print(df['成绩'])\n",
    "\n",
    "# 选择多列\n",
    "print(\"\\n姓名和成绩列:\")\n",
    "print(df[['姓名', '成绩']])\n",
    "\n",
    "# 条件过滤\n",
    "print(\"\\n成绩大于85的学生:\")\n",
    "print(df[df['成绩'] > 85])\n",
    "\n",
    "# 多条件过滤\n",
    "print(\"\\n成绩在85-90之间的学生:\")\n",
    "print(df[(df['成绩'] >= 85) & (df['成绩'] <= 90)])"
   ],
   "id": "2f9329d1487c3f37",
   "outputs": [
    {
     "name": "stdout",
     "output_type": "stream",
     "text": [
      "成绩列:\n",
      "0    85\n",
      "1    88\n",
      "2    90\n",
      "3    95\n",
      "4    80\n",
      "Name: 成绩, dtype: int64\n",
      "\n",
      "姓名和成绩列:\n",
      "   姓名  成绩\n",
      "0  张三  85\n",
      "1  李四  88\n",
      "2  王五  90\n",
      "3  赵六  95\n",
      "4  钱七  80\n",
      "\n",
      "成绩大于85的学生:\n",
      "   序号  姓名  成绩          课程\n",
      "1   2  李四  88  地理大数据分析与应用\n",
      "2   3  王五  90  地理大数据分析与应用\n",
      "3   4  赵六  95  地理大数据分析与应用\n",
      "\n",
      "成绩在85-90之间的学生:\n",
      "   序号  姓名  成绩          课程\n",
      "0   1  张三  85  地理大数据分析与应用\n",
      "1   2  李四  88  地理大数据分析与应用\n",
      "2   3  王五  90  地理大数据分析与应用\n"
     ]
    }
   ],
   "execution_count": 8
  },
  {
   "metadata": {
    "ExecuteTime": {
     "end_time": "2025-10-11T07:34:01.499993Z",
     "start_time": "2025-10-11T07:34:01.491707Z"
    }
   },
   "cell_type": "code",
   "source": [
    "# 导出数据\n",
    "df.to_csv('student_scores.csv',\n",
    "          index=False,\n",
    "          encoding='utf-8-sig')  # utf-8-sig支持Excel中文显示\n",
    "\n",
    "print(\"数据已导出到 student_scores.csv\")"
   ],
   "id": "2575a6cb885f6e3",
   "outputs": [
    {
     "name": "stdout",
     "output_type": "stream",
     "text": [
      "数据已导出到 student_scores.csv\n"
     ]
    }
   ],
   "execution_count": 9
  },
  {
   "metadata": {
    "ExecuteTime": {
     "end_time": "2025-10-11T07:34:01.522108Z",
     "start_time": "2025-10-11T07:34:01.507062Z"
    }
   },
   "cell_type": "code",
   "source": [
    "# 导入数据\n",
    "df_imported = pd.read_csv('student_scores.csv', encoding='utf-8-sig')\n",
    "print(\"从CSV导入的数据:\")\n",
    "print(df_imported)"
   ],
   "id": "8c3a7fe7b31d2117",
   "outputs": [
    {
     "name": "stdout",
     "output_type": "stream",
     "text": [
      "从CSV导入的数据:\n",
      "   序号  姓名  成绩          课程\n",
      "0   1  张三  85  地理大数据分析与应用\n",
      "1   2  李四  88  地理大数据分析与应用\n",
      "2   3  王五  90  地理大数据分析与应用\n",
      "3   4  赵六  95  地理大数据分析与应用\n",
      "4   5  钱七  80  地理大数据分析与应用\n"
     ]
    }
   ],
   "execution_count": 10
  },
  {
   "metadata": {
    "ExecuteTime": {
     "end_time": "2025-10-11T07:34:01.537947Z",
     "start_time": "2025-10-11T07:34:01.532358Z"
    }
   },
   "cell_type": "code",
   "source": [
    "# 导出时设置更多参数\n",
    "df.to_csv('student_scores_detailed.csv',\n",
    "          index=False,\n",
    "          encoding='utf-8-sig',\n",
    "          sep=',',           # 分隔符\n",
    "          header=True)       # 包含列名\n",
    "\n",
    "# 导入时设置参数\n",
    "df_detailed = pd.read_csv('student_scores_detailed.csv',\n",
    "                         encoding='utf-8-sig',\n",
    "                         index_col=False)"
   ],
   "id": "22d0d149e137c5",
   "outputs": [],
   "execution_count": 11
  },
  {
   "metadata": {
    "ExecuteTime": {
     "end_time": "2025-10-11T07:34:01.701249Z",
     "start_time": "2025-10-11T07:34:01.544843Z"
    }
   },
   "cell_type": "code",
   "source": [
    "# 获取武汉空气质量数据\n",
    "url_air = 'https://www.air-level.com/air/wuhan/'\n",
    "\n",
    "try:\n",
    "    # 读取网页表格\n",
    "    air_tables = pd.read_html(url_air)\n",
    "    air_quality = air_tables[0]  # 第一个表格\n",
    "\n",
    "    print(\"武汉空气质量数据:\")\n",
    "    print(air_quality)\n",
    "\n",
    "    # 保存数据\n",
    "    air_quality.to_csv('wuhan_air_quality.csv',\n",
    "                      index=False,\n",
    "                      encoding='utf-8-sig')\n",
    "    print(\"\\n数据已保存到 wuhan_air_quality.csv\")\n",
    "\n",
    "except Exception as e:\n",
    "    print(f\"获取数据失败: {e}\")"
   ],
   "id": "967f8fa883e70571",
   "outputs": [
    {
     "name": "stdout",
     "output_type": "stream",
     "text": [
      "武汉空气质量数据:\n",
      "           监测站 AQI 空气质量等级     PM2.5      PM10  首要污染物\n",
      "0  武汉市民族大道182号  55      良  34 μg/m3  58 μg/m3   PM10\n",
      "1      武汉市汉口花桥  53      良  37 μg/m3  42 μg/m3  PM2.5\n",
      "2      武汉市武昌紫阳  53      良  27 μg/m3  55 μg/m3   PM10\n",
      "3      武汉市汉阳月湖  52      良  24 μg/m3  52 μg/m3   PM10\n",
      "4      武汉市沌口新区  48      优  34 μg/m3  42 μg/m3    NaN\n",
      "5      武汉市东湖梨园  47      优  22 μg/m3  46 μg/m3    NaN\n",
      "6      武汉市青山钢花  47      优  31 μg/m3  46 μg/m3    NaN\n",
      "7      武汉市汉口江滩  43      优  30 μg/m3  41 μg/m3    NaN\n",
      "8       武汉市吴家山  37      优  24 μg/m3  36 μg/m3    NaN\n",
      "9      武汉市沉湖七壕   -      -         -         -      -\n",
      "\n",
      "数据已保存到 wuhan_air_quality.csv\n"
     ]
    }
   ],
   "execution_count": 12
  },
  {
   "metadata": {
    "ExecuteTime": {
     "end_time": "2025-10-11T07:34:01.889370Z",
     "start_time": "2025-10-11T07:34:01.713702Z"
    }
   },
   "cell_type": "code",
   "source": [
    "# 获取湖北大学录取分数数据\n",
    "url_hubu = 'http://zsxx.hubu.edu.cn/info/1017/1655.htm'\n",
    "\n",
    "try:\n",
    "    hubu_tables = pd.read_html(url_hubu)\n",
    "\n",
    "    print(f\"找到 {len(hubu_tables)} 个表格\")\n",
    "\n",
    "    # 先查看表格的结构\n",
    "    for i, table in enumerate(hubu_tables):\n",
    "        print(f\"\\n表格 {i} 的形状: {table.shape}\")\n",
    "        print(f\"表格 {i} 的列名: {table.columns.tolist()}\")\n",
    "        print(f\"表格 {i} 的前2行:\")\n",
    "        print(table.head(2))\n",
    "\n",
    "    # 处理第一个表格（历史科目）\n",
    "    df_history = hubu_tables[0]\n",
    "\n",
    "    # 查看原始列名和数据结构\n",
    "    print(\"\\n原始表格结构:\")\n",
    "    print(f\"列数: {len(df_history.columns)}\")\n",
    "    print(f\"列名: {df_history.columns.tolist()}\")\n",
    "    print(df_history.head())\n",
    "\n",
    "    # 删除标题行\n",
    "    df_history = df_history.drop(index=0)\n",
    "\n",
    "    # 根据实际列数设置列名\n",
    "    if len(df_history.columns) == 6:\n",
    "        df_history.columns = ['专业组代码', '批次线', '最高分', '最低分', '高出', '备注']\n",
    "    elif len(df_history.columns) == 5:\n",
    "        df_history.columns = ['专业组代码', '批次线', '最高分', '最低分', '高出']\n",
    "    else:\n",
    "        # 如果列数不确定，使用通用列名\n",
    "        df_history.columns = [f'列_{i}' for i in range(len(df_history.columns))]\n",
    "        print(f\"使用通用列名: {df_history.columns.tolist()}\")\n",
    "\n",
    "    print(\"\\n处理后的历史科目录取数据:\")\n",
    "    print(df_history.head())\n",
    "\n",
    "    # 保存数据\n",
    "    df_history.to_csv('hubu_history_scores.csv',\n",
    "                     index=False,\n",
    "                     encoding='utf-8-sig')\n",
    "\n",
    "    print(\"\\n数据已保存到 hubu_history_scores.csv\")\n",
    "\n",
    "except Exception as e:\n",
    "    print(f\"获取数据失败: {e}\")"
   ],
   "id": "bba9c04dcf9ec8f6",
   "outputs": [
    {
     "name": "stdout",
     "output_type": "stream",
     "text": [
      "找到 2 个表格\n",
      "\n",
      "表格 0 的形状: (10, 6)\n",
      "表格 0 的列名: [0, 1, 2, 3, 4, 5]\n",
      "表格 0 的前2行:\n",
      "        0       1       2       3       4       5\n",
      "0  首选科目历史  首选科目历史  首选科目历史  首选科目历史  首选科目历史  首选科目历史\n",
      "1   专业组代号    再选科目     批次线     最高分     最低分      高出\n",
      "\n",
      "表格 1 的形状: (19, 6)\n",
      "表格 1 的列名: [0, 1, 2, 3, 4, 5]\n",
      "表格 1 的前2行:\n",
      "        0       1       2       3       4       5\n",
      "0  首选科目物理  首选科目物理  首选科目物理  首选科目物理  首选科目物理  首选科目物理\n",
      "1   专业组代号    再选科目     批次线     最高分     最低分      高出\n",
      "\n",
      "原始表格结构:\n",
      "列数: 6\n",
      "列名: [0, 1, 2, 3, 4, 5]\n",
      "        0       1        2       3       4       5\n",
      "0  首选科目历史  首选科目历史   首选科目历史  首选科目历史  首选科目历史  首选科目历史\n",
      "1   专业组代号    再选科目      批次线     最高分     最低分      高出\n",
      "2  C10301      不限  435/527     572     559      32\n",
      "3  C10302      不限  435/527     579     564      37\n",
      "4  C10303      不限  435/527     582     561      34\n",
      "\n",
      "处理后的历史科目录取数据:\n",
      "    专业组代码   批次线      最高分  最低分   高出  备注\n",
      "1   专业组代号  再选科目      批次线  最高分  最低分  高出\n",
      "2  C10301    不限  435/527  572  559  32\n",
      "3  C10302    不限  435/527  579  564  37\n",
      "4  C10303    不限  435/527  582  561  34\n",
      "5  C10304   化或地  435/527  576  561  34\n",
      "\n",
      "数据已保存到 hubu_history_scores.csv\n"
     ]
    }
   ],
   "execution_count": 13
  },
  {
   "metadata": {
    "ExecuteTime": {
     "end_time": "2025-10-11T07:34:01.907730Z",
     "start_time": "2025-10-11T07:34:01.901044Z"
    }
   },
   "cell_type": "code",
   "source": [
    "# 假设我们有一个温度数据的DataFrame\n",
    "temperature_data = pd.DataFrame({\n",
    "    '城市': ['元江', '景洪', '屯昌', '乐东', '澄迈'],\n",
    "    '温度': ['36.6℃', '36.1℃', '35.3℃', '35.2℃', '35℃']\n",
    "})\n",
    "\n",
    "print(\"原始温度数据:\")\n",
    "print(temperature_data)\n",
    "\n",
    "# 数据清洗：移除温度单位并转换为数值\n",
    "temperature_data['温度数值'] = temperature_data['温度'].str.replace('℃', '').astype(float)\n",
    "\n",
    "print(\"\\n清洗后的数据:\")\n",
    "print(temperature_data)\n",
    "\n",
    "# 描述性统计\n",
    "print(\"\\n温度统计信息:\")\n",
    "print(temperature_data['温度数值'].describe())"
   ],
   "id": "516467f6ec9f15c1",
   "outputs": [
    {
     "name": "stdout",
     "output_type": "stream",
     "text": [
      "原始温度数据:\n",
      "   城市     温度\n",
      "0  元江  36.6℃\n",
      "1  景洪  36.1℃\n",
      "2  屯昌  35.3℃\n",
      "3  乐东  35.2℃\n",
      "4  澄迈    35℃\n",
      "\n",
      "清洗后的数据:\n",
      "   城市     温度  温度数值\n",
      "0  元江  36.6℃  36.6\n",
      "1  景洪  36.1℃  36.1\n",
      "2  屯昌  35.3℃  35.3\n",
      "3  乐东  35.2℃  35.2\n",
      "4  澄迈    35℃  35.0\n",
      "\n",
      "温度统计信息:\n",
      "count     5.000000\n",
      "mean     35.640000\n",
      "std       0.680441\n",
      "min      35.000000\n",
      "25%      35.200000\n",
      "50%      35.300000\n",
      "75%      36.100000\n",
      "max      36.600000\n",
      "Name: 温度数值, dtype: float64\n"
     ]
    }
   ],
   "execution_count": 14
  },
  {
   "metadata": {
    "ExecuteTime": {
     "end_time": "2025-10-11T07:34:01.925830Z",
     "start_time": "2025-10-11T07:34:01.915273Z"
    }
   },
   "cell_type": "code",
   "source": [
    "# 1. 创建模拟数据\n",
    "import random\n",
    "\n",
    "students_data = {\n",
    "    '学号': [f'2023000{i:03d}' for i in range(1, 21)],\n",
    "    '姓名': [f'学生{i}' for i in range(1, 21)],\n",
    "    '数学': [random.randint(60, 100) for _ in range(20)],\n",
    "    '英语': [random.randint(60, 100) for _ in range(20)],\n",
    "    '计算机': [random.randint(60, 100) for _ in range(20)]\n",
    "}\n",
    "\n",
    "students_df = pd.DataFrame(students_data)\n",
    "\n",
    "print(\"学生成绩数据:\")\n",
    "print(students_df.head())\n",
    "\n",
    "# 2. 数据计算\n",
    "students_df['总分'] = students_df['数学'] + students_df['英语'] + students_df['计算机']\n",
    "students_df['平均分'] = students_df['总分'] / 3\n",
    "\n",
    "print(\"\\n添加计算列后的数据:\")\n",
    "print(students_df.head())\n",
    "\n",
    "# 3. 数据分析\n",
    "print(\"\\n=== 成绩分析报告 ===\")\n",
    "print(f\"学生总数: {len(students_df)}\")\n",
    "print(f\"数学平均分: {students_df['数学'].mean():.2f}\")\n",
    "print(f\"英语平均分: {students_df['英语'].mean():.2f}\")\n",
    "print(f\"计算机平均分: {students_df['计算机'].mean():.2f}\")\n",
    "print(f\"最高总分: {students_df['总分'].max()}\")\n",
    "print(f\"最低总分: {students_df['总分'].min()}\")\n",
    "\n",
    "# 4. 数据筛选\n",
    "top_students = students_df[students_df['总分'] > 270]\n",
    "print(f\"\\n总分超过270分的学生 ({len(top_students)}人):\")\n",
    "print(top_students[['姓名', '总分', '平均分']])\n",
    "\n",
    "# 5. 数据排序\n",
    "sorted_students = students_df.sort_values('总分', ascending=False)\n",
    "print(\"\\n按总分排序:\")\n",
    "print(sorted_students[['姓名', '总分']].head())\n",
    "\n",
    "# 6. 导出结果\n",
    "students_df.to_csv('student_analysis.csv', index=False, encoding='utf-8-sig')\n",
    "print(\"\\n分析结果已保存到 student_analysis.csv\")"
   ],
   "id": "ddcec996c503bbeb",
   "outputs": [
    {
     "name": "stdout",
     "output_type": "stream",
     "text": [
      "学生成绩数据:\n",
      "           学号   姓名  数学  英语  计算机\n",
      "0  2023000001  学生1  88  94   66\n",
      "1  2023000002  学生2  63  74   76\n",
      "2  2023000003  学生3  85  89  100\n",
      "3  2023000004  学生4  92  66   75\n",
      "4  2023000005  学生5  92  89   90\n",
      "\n",
      "添加计算列后的数据:\n",
      "           学号   姓名  数学  英语  计算机   总分        平均分\n",
      "0  2023000001  学生1  88  94   66  248  82.666667\n",
      "1  2023000002  学生2  63  74   76  213  71.000000\n",
      "2  2023000003  学生3  85  89  100  274  91.333333\n",
      "3  2023000004  学生4  92  66   75  233  77.666667\n",
      "4  2023000005  学生5  92  89   90  271  90.333333\n",
      "\n",
      "=== 成绩分析报告 ===\n",
      "学生总数: 20\n",
      "数学平均分: 82.00\n",
      "英语平均分: 82.20\n",
      "计算机平均分: 79.05\n",
      "最高总分: 283\n",
      "最低总分: 200\n",
      "\n",
      "总分超过270分的学生 (3人):\n",
      "      姓名   总分        平均分\n",
      "2    学生3  274  91.333333\n",
      "4    学生5  271  90.333333\n",
      "11  学生12  283  94.333333\n",
      "\n",
      "按总分排序:\n",
      "      姓名   总分\n",
      "11  学生12  283\n",
      "2    学生3  274\n",
      "4    学生5  271\n",
      "7    学生8  270\n",
      "5    学生6  266\n",
      "\n",
      "分析结果已保存到 student_analysis.csv\n"
     ]
    }
   ],
   "execution_count": 15
  }
 ],
 "metadata": {
  "kernelspec": {
   "display_name": "Python 3",
   "language": "python",
   "name": "python3"
  },
  "language_info": {
   "codemirror_mode": {
    "name": "ipython",
    "version": 2
   },
   "file_extension": ".py",
   "mimetype": "text/x-python",
   "name": "python",
   "nbconvert_exporter": "python",
   "pygments_lexer": "ipython2",
   "version": "2.7.6"
  }
 },
 "nbformat": 4,
 "nbformat_minor": 5
}
